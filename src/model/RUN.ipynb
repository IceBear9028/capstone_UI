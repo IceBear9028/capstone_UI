{
 "cells": [
  {
   "cell_type": "code",
   "execution_count": 1,
   "id": "f0499921",
   "metadata": {},
   "outputs": [
    {
     "ename": "XGBoostError",
     "evalue": "\nXGBoost Library (libxgboost.dylib) could not be loaded.\nLikely causes:\n  * OpenMP runtime is not installed\n    - vcomp140.dll or libgomp-1.dll for Windows\n    - libomp.dylib for Mac OSX\n    - libgomp.so for Linux and other UNIX-like OSes\n    Mac OSX users: Run `brew install libomp` to install OpenMP runtime.\n\n  * You are running 32-bit Python on a 64-bit OS\n\nError message(s): [\"dlopen(/Users/isang-yun/miniconda3/envs/capstonedesign/lib/python3.6/site-packages/xgboost/lib/libxgboost.dylib, 0x0006): Library not loaded: /usr/local/opt/libomp/lib/libomp.dylib\\n  Referenced from: /Users/isang-yun/miniconda3/envs/capstonedesign/lib/python3.6/site-packages/xgboost/lib/libxgboost.dylib\\n  Reason: tried: '/usr/local/opt/libomp/lib/libomp.dylib' (no such file), '/usr/local/lib/libomp.dylib' (no such file), '/usr/lib/libomp.dylib' (no such file)\"]\n",
     "output_type": "error",
     "traceback": [
      "\u001b[0;31m---------------------------------------------------------------------------\u001b[0m",
      "\u001b[0;31mXGBoostError\u001b[0m                              Traceback (most recent call last)",
      "\u001b[0;32m<ipython-input-1-8f4255eeb1c9>\u001b[0m in \u001b[0;36m<module>\u001b[0;34m\u001b[0m\n\u001b[1;32m      1\u001b[0m \u001b[0;32mimport\u001b[0m \u001b[0mpickle\u001b[0m \u001b[0;32mas\u001b[0m \u001b[0mpkl\u001b[0m\u001b[0;34m\u001b[0m\u001b[0;34m\u001b[0m\u001b[0m\n\u001b[0;32m----> 2\u001b[0;31m \u001b[0;32mimport\u001b[0m \u001b[0mxgboost\u001b[0m \u001b[0;32mas\u001b[0m \u001b[0mxgb\u001b[0m\u001b[0;34m\u001b[0m\u001b[0;34m\u001b[0m\u001b[0m\n\u001b[0m\u001b[1;32m      3\u001b[0m \u001b[0;32mfrom\u001b[0m \u001b[0msklearn\u001b[0m\u001b[0;34m.\u001b[0m\u001b[0mmodel_selection\u001b[0m \u001b[0;32mimport\u001b[0m \u001b[0mGridSearchCV\u001b[0m\u001b[0;34m\u001b[0m\u001b[0;34m\u001b[0m\u001b[0m\n\u001b[1;32m      4\u001b[0m \u001b[0;32mfrom\u001b[0m \u001b[0msklearn\u001b[0m\u001b[0;34m.\u001b[0m\u001b[0mensemble\u001b[0m \u001b[0;32mimport\u001b[0m \u001b[0mRandomForestClassifier\u001b[0m\u001b[0;34m\u001b[0m\u001b[0;34m\u001b[0m\u001b[0m\n\u001b[1;32m      5\u001b[0m \u001b[0;34m\u001b[0m\u001b[0m\n",
      "\u001b[0;32m~/miniconda3/envs/capstonedesign/lib/python3.6/site-packages/xgboost/__init__.py\u001b[0m in \u001b[0;36m<module>\u001b[0;34m\u001b[0m\n\u001b[1;32m      7\u001b[0m \u001b[0;32mimport\u001b[0m \u001b[0mos\u001b[0m\u001b[0;34m\u001b[0m\u001b[0;34m\u001b[0m\u001b[0m\n\u001b[1;32m      8\u001b[0m \u001b[0;34m\u001b[0m\u001b[0m\n\u001b[0;32m----> 9\u001b[0;31m \u001b[0;32mfrom\u001b[0m \u001b[0;34m.\u001b[0m\u001b[0mcore\u001b[0m \u001b[0;32mimport\u001b[0m \u001b[0mDMatrix\u001b[0m\u001b[0;34m,\u001b[0m \u001b[0mDeviceQuantileDMatrix\u001b[0m\u001b[0;34m,\u001b[0m \u001b[0mBooster\u001b[0m\u001b[0;34m,\u001b[0m \u001b[0mDataIter\u001b[0m\u001b[0;34m\u001b[0m\u001b[0;34m\u001b[0m\u001b[0m\n\u001b[0m\u001b[1;32m     10\u001b[0m \u001b[0;32mfrom\u001b[0m \u001b[0;34m.\u001b[0m\u001b[0mtraining\u001b[0m \u001b[0;32mimport\u001b[0m \u001b[0mtrain\u001b[0m\u001b[0;34m,\u001b[0m \u001b[0mcv\u001b[0m\u001b[0;34m\u001b[0m\u001b[0;34m\u001b[0m\u001b[0m\n\u001b[1;32m     11\u001b[0m \u001b[0;32mfrom\u001b[0m \u001b[0;34m.\u001b[0m \u001b[0;32mimport\u001b[0m \u001b[0mrabit\u001b[0m  \u001b[0;31m# noqa\u001b[0m\u001b[0;34m\u001b[0m\u001b[0;34m\u001b[0m\u001b[0m\n",
      "\u001b[0;32m~/miniconda3/envs/capstonedesign/lib/python3.6/site-packages/xgboost/core.py\u001b[0m in \u001b[0;36m<module>\u001b[0;34m\u001b[0m\n\u001b[1;32m    201\u001b[0m \u001b[0;34m\u001b[0m\u001b[0m\n\u001b[1;32m    202\u001b[0m \u001b[0;31m# load the XGBoost library globally\u001b[0m\u001b[0;34m\u001b[0m\u001b[0;34m\u001b[0m\u001b[0;34m\u001b[0m\u001b[0m\n\u001b[0;32m--> 203\u001b[0;31m \u001b[0m_LIB\u001b[0m \u001b[0;34m=\u001b[0m \u001b[0m_load_lib\u001b[0m\u001b[0;34m(\u001b[0m\u001b[0;34m)\u001b[0m\u001b[0;34m\u001b[0m\u001b[0;34m\u001b[0m\u001b[0m\n\u001b[0m\u001b[1;32m    204\u001b[0m \u001b[0;34m\u001b[0m\u001b[0m\n\u001b[1;32m    205\u001b[0m \u001b[0;34m\u001b[0m\u001b[0m\n",
      "\u001b[0;32m~/miniconda3/envs/capstonedesign/lib/python3.6/site-packages/xgboost/core.py\u001b[0m in \u001b[0;36m_load_lib\u001b[0;34m()\u001b[0m\n\u001b[1;32m    192\u001b[0m \u001b[0;34m\u001b[0m\u001b[0m\n\u001b[1;32m    193\u001b[0m \u001b[0mError\u001b[0m \u001b[0mmessage\u001b[0m\u001b[0;34m(\u001b[0m\u001b[0ms\u001b[0m\u001b[0;34m)\u001b[0m\u001b[0;34m:\u001b[0m \u001b[0;34m{\u001b[0m\u001b[0mos_error_list\u001b[0m\u001b[0;34m}\u001b[0m\u001b[0;34m\u001b[0m\u001b[0;34m\u001b[0m\u001b[0m\n\u001b[0;32m--> 194\u001b[0;31m \"\"\")\n\u001b[0m\u001b[1;32m    195\u001b[0m     \u001b[0mlib\u001b[0m\u001b[0;34m.\u001b[0m\u001b[0mXGBGetLastError\u001b[0m\u001b[0;34m.\u001b[0m\u001b[0mrestype\u001b[0m \u001b[0;34m=\u001b[0m \u001b[0mctypes\u001b[0m\u001b[0;34m.\u001b[0m\u001b[0mc_char_p\u001b[0m\u001b[0;34m\u001b[0m\u001b[0;34m\u001b[0m\u001b[0m\n\u001b[1;32m    196\u001b[0m     \u001b[0mlib\u001b[0m\u001b[0;34m.\u001b[0m\u001b[0mcallback\u001b[0m \u001b[0;34m=\u001b[0m \u001b[0m_get_log_callback_func\u001b[0m\u001b[0;34m(\u001b[0m\u001b[0;34m)\u001b[0m\u001b[0;34m\u001b[0m\u001b[0;34m\u001b[0m\u001b[0m\n",
      "\u001b[0;31mXGBoostError\u001b[0m: \nXGBoost Library (libxgboost.dylib) could not be loaded.\nLikely causes:\n  * OpenMP runtime is not installed\n    - vcomp140.dll or libgomp-1.dll for Windows\n    - libomp.dylib for Mac OSX\n    - libgomp.so for Linux and other UNIX-like OSes\n    Mac OSX users: Run `brew install libomp` to install OpenMP runtime.\n\n  * You are running 32-bit Python on a 64-bit OS\n\nError message(s): [\"dlopen(/Users/isang-yun/miniconda3/envs/capstonedesign/lib/python3.6/site-packages/xgboost/lib/libxgboost.dylib, 0x0006): Library not loaded: /usr/local/opt/libomp/lib/libomp.dylib\\n  Referenced from: /Users/isang-yun/miniconda3/envs/capstonedesign/lib/python3.6/site-packages/xgboost/lib/libxgboost.dylib\\n  Reason: tried: '/usr/local/opt/libomp/lib/libomp.dylib' (no such file), '/usr/local/lib/libomp.dylib' (no such file), '/usr/lib/libomp.dylib' (no such file)\"]\n"
     ]
    }
   ],
   "source": [
    "import pickle as pkl\n",
    "import xgboost as xgb\n",
    "from sklearn.model_selection import GridSearchCV\n",
    "from sklearn.ensemble import RandomForestClassifier\n",
    "\n",
    "with open('model.pkl','rb') as f:\n",
    "    pickle = pkl.load(f)\n",
    "    scalar = pickle[1]\n",
    "    model = pickle[0]"
   ]
  },
  {
   "cell_type": "code",
   "execution_count": 2,
   "id": "6d28963f",
   "metadata": {},
   "outputs": [
    {
     "data": {
      "text/plain": [
       "XGBClassifier(base_score=0.5, booster='gbtree', callbacks=None,\n",
       "              colsample_bylevel=1, colsample_bynode=1, colsample_bytree=0.75,\n",
       "              early_stopping_rounds=None, enable_categorical=False,\n",
       "              eval_metric=None, gamma=0, gpu_id=-1, grow_policy='depthwise',\n",
       "              importance_type=None, interaction_constraints='',\n",
       "              learning_rate=0.1, max_bin=256, max_cat_to_onehot=4,\n",
       "              max_delta_step=0, max_depth=6, max_leaves=0, min_child_weight=1,\n",
       "              missing=nan, monotone_constraints='()', n_estimators=1000,\n",
       "              n_jobs=0, num_parallel_tree=1, predictor='auto', random_state=0,\n",
       "              reg_alpha=0, reg_lambda=1, ...)"
      ]
     },
     "execution_count": 2,
     "metadata": {},
     "output_type": "execute_result"
    }
   ],
   "source": [
    "model"
   ]
  },
  {
   "cell_type": "code",
   "execution_count": 3,
   "id": "cb7340a8",
   "metadata": {},
   "outputs": [],
   "source": [
    "class off_angle: \n",
    "    def init():\n",
    "        global off_records, angle_records\n",
    "        off_records = [0]\n",
    "        angle_records = []\n",
    "\n",
    "\n",
    "    def detect(image, face_mesh_results):\n",
    "        for face_no, face_landmarks in enumerate(face_mesh_results.multi_face_landmarks):\n",
    "            for id, lm in enumerate(face_landmarks.landmark):\n",
    "                shape = image.shape\n",
    "                landmark_x = int(lm.x * shape[1])\n",
    "                landmark_y = int(lm.y * shape[0])\n",
    "                if id == 1 :\n",
    "                    Nose=[landmark_x,landmark_y]\n",
    "                if id == 127 :\n",
    "                    Head_L=[lm.x,lm.y]\n",
    "                if id == 356 :\n",
    "                    Head_R=[lm.x,lm.y]\n",
    "        off_distance = abs(Nose[0]-shape[1]/2)\n",
    "        off_records.append(off_distance)\n",
    "        come_off = max(off_records)-min(off_records)\n",
    "        \n",
    "        \n",
    "        x_cord = abs(Head_L[0]-Head_R[0])\n",
    "        z_cord = abs(Head_L[1]-Head_R[1])\n",
    "        angle = round(math.atan2(x_cord/z_cord,2),2)*90-50\n",
    "        if angle >90:\n",
    "            angle = 90\n",
    "        if angle < 0 :\n",
    "            angle = 0\n",
    "        angle_records.append(angle)\n",
    "        face_angle = round(sum(angle_records)/len(angle_records))\n",
    "\n",
    "        \n",
    "        return come_off, face_angle"
   ]
  },
  {
   "cell_type": "code",
   "execution_count": 4,
   "id": "4e1ba119",
   "metadata": {},
   "outputs": [],
   "source": [
    "class moves_ZX:\n",
    "    def init():\n",
    "        global mX_start,rX_start, list_xX, list_yX, movement_recordX\n",
    "        mX_start = pygame.time.get_ticks()\n",
    "        rX_start = pygame.time.get_ticks()\n",
    "        list_xX, list_yX, movement_recordX = [],[],[0]\n",
    "        for k in range (33):\n",
    "            list_xX.append(0)\n",
    "            list_yX.append(0)\n",
    "\n",
    "\n",
    "    def detect(results):\n",
    "        global mX_start\n",
    "        mX_passed = pygame.time.get_ticks() - mX_start\n",
    "        if mX_passed > 50: \n",
    "            movement = 0\n",
    "            delta = 0\n",
    "            num_landmark = 0\n",
    "            i=0\n",
    "            for id, lm in enumerate(results.pose_landmarks.landmark):\n",
    "                if lm.visibility > 0.7:\n",
    "                    num_landmark +=1\n",
    "                    delta_x = lm.x - list_xX[id]\n",
    "                    delta_y = lm.y - list_yX[id]\n",
    "                    delta = math.sqrt((delta_x * delta_x) + (delta_y * delta_y)) * 100\n",
    "                    movement += delta\n",
    "                else:\n",
    "                    delta = 0\n",
    "                del list_xX[id],list_yX[id]\n",
    "                list_xX.insert(id,lm.x)\n",
    "                list_yX.insert(id,lm.y)\n",
    "            movement = movement/ num_landmark\n",
    "            mX_passed = 0\n",
    "            mX_start = pygame.time.get_ticks()\n",
    "            movement_recordX.append(movement)\n",
    "        if len(movement_recordX) == 2: # 영상별로 첫 번째 움직임 데이터는 불필요하여 삭제\n",
    "            del movement_recordX[0]\n",
    "            movement_recordX.append(0)\n",
    "        movingX = round(sum(movement_recordX)/len(movement_recordX),3)\n",
    "        return movingX\n",
    "                            #movement = rou"
   ]
  },
  {
   "cell_type": "code",
   "execution_count": 5,
   "id": "b3588926",
   "metadata": {},
   "outputs": [],
   "source": [
    "class fer:\n",
    "    def init():\n",
    "        global angry_list, disgust_list, fear_list, happy_list, sad_list, surprise_list, neutral_list,emotion_list\n",
    "        angry_list = [0]\n",
    "        disgust_list = [0]\n",
    "        fear_list = [0]\n",
    "        happy_list = [0]\n",
    "        sad_list = [0]\n",
    "        surprise_list = [0]\n",
    "        neutral_list = [0]\n",
    "        emotion_list = [0,0,0,0,0,0,0]\n",
    "        \n",
    "    def detect(frame,emotions):\n",
    "        try:\n",
    "            for idx, data in enumerate(emotions[0]['emotions']):\n",
    "                emotion=emotions[0]['emotions'][data]\n",
    "                del emotion_list[idx]\n",
    "                emotion_list.insert(idx,emotion)\n",
    "            if emotion_list[6] != 0:\n",
    "                angry_list.append(emotion_list[0])\n",
    "                disgust_list.append(emotion_list[1])\n",
    "                fear_list.append(emotion_list[2])\n",
    "                happy_list.append(emotion_list[3])\n",
    "                sad_list.append(emotion_list[4])\n",
    "                surprise_list.append(emotion_list[5])\n",
    "                neutral_list.append(emotion_list[6])\n",
    "        except IndexError:\n",
    "            pass\n",
    "        if sum(neutral_list) == 0:\n",
    "            fer_result = [0,0,0,0,0,0,0]\n",
    "        else :\n",
    "            fer_result = [sum(angry_list)/len(angry_list),sum(disgust_list)/len(disgust_list),sum(fear_list)/len(fear_list),sum(happy_list)/len(happy_list),sum(sad_list)/len(sad_list),sum(surprise_list)/len(surprise_list),sum(neutral_list)/len(neutral_list)]\n",
    "        return fer_result"
   ]
  },
  {
   "cell_type": "code",
   "execution_count": 6,
   "id": "9ae57889",
   "metadata": {},
   "outputs": [
    {
     "name": "stdout",
     "output_type": "stream",
     "text": [
      "pygame 2.1.2 (SDL 2.0.18, Python 3.7.13)\n",
      "Hello from the pygame community. https://www.pygame.org/contribute.html\n"
     ]
    },
    {
     "name": "stderr",
     "output_type": "stream",
     "text": [
      "c:\\Users\\kangh\\anaconda3\\envs\\capstone\\lib\\site-packages\\tqdm\\auto.py:22: TqdmWarning: IProgress not found. Please update jupyter and ipywidgets. See https://ipywidgets.readthedocs.io/en/stable/user_install.html\n",
      "  from .autonotebook import tqdm as notebook_tqdm\n",
      "c:\\Users\\kangh\\anaconda3\\envs\\capstone\\lib\\site-packages\\sklearn\\base.py:451: UserWarning: X does not have valid feature names, but StandardScaler was fitted with feature names\n",
      "  \"X does not have valid feature names, but\"\n"
     ]
    },
    {
     "name": "stdout",
     "output_type": "stream",
     "text": [
      "[[-1.0965449  -0.14157473 -0.86849691 -0.27499795 -1.24704748 -0.37020263\n",
      "  -2.15905455 16.51561048 -1.73478266  7.79546412]]\n",
      "[[0.99120617 0.00879383]]\n",
      "------------------\n",
      "예외가 발생했습니다. 'NoneType' object is not iterable\n",
      "[[-0.72121439 -0.14157473 -0.40881677  3.41430457  0.38093045 -0.21156813\n",
      "  -2.10004116  6.82010306 -2.76063715  7.41044725]]\n",
      "[[0.06174046 0.93825954]]\n",
      "------------------\n"
     ]
    },
    {
     "name": "stderr",
     "output_type": "stream",
     "text": [
      "c:\\Users\\kangh\\anaconda3\\envs\\capstone\\lib\\site-packages\\sklearn\\base.py:451: UserWarning: X does not have valid feature names, but StandardScaler was fitted with feature names\n",
      "  \"X does not have valid feature names, but\"\n",
      "c:\\Users\\kangh\\anaconda3\\envs\\capstone\\lib\\site-packages\\sklearn\\base.py:451: UserWarning: X does not have valid feature names, but StandardScaler was fitted with feature names\n",
      "  \"X does not have valid feature names, but\"\n"
     ]
    },
    {
     "name": "stdout",
     "output_type": "stream",
     "text": [
      "[[-1.0965449  -0.14157473 -0.86849691 -0.27499795 -1.24704748 -0.37020263\n",
      "  -2.15905455  3.98466791 -0.31436876  4.92922741]]\n",
      "[[0.9871455  0.01285454]]\n",
      "------------------\n"
     ]
    },
    {
     "name": "stderr",
     "output_type": "stream",
     "text": [
      "c:\\Users\\kangh\\anaconda3\\envs\\capstone\\lib\\site-packages\\sklearn\\base.py:451: UserWarning: X does not have valid feature names, but StandardScaler was fitted with feature names\n",
      "  \"X does not have valid feature names, but\"\n"
     ]
    },
    {
     "name": "stdout",
     "output_type": "stream",
     "text": [
      "[[-1.0965449  -0.14157473 -0.86849691 -0.27499795 -1.24704748 -0.37020263\n",
      "  -2.15905455  3.02263842  0.63257385  0.48014356]]\n",
      "[[0.9728406  0.02715941]]\n",
      "------------------\n"
     ]
    },
    {
     "name": "stderr",
     "output_type": "stream",
     "text": [
      "c:\\Users\\kangh\\anaconda3\\envs\\capstone\\lib\\site-packages\\sklearn\\base.py:451: UserWarning: X does not have valid feature names, but StandardScaler was fitted with feature names\n",
      "  \"X does not have valid feature names, but\"\n"
     ]
    },
    {
     "name": "stdout",
     "output_type": "stream",
     "text": [
      "[[-1.0965449  -0.14157473 -0.86849691 -0.27499795 -1.24704748 -0.37020263\n",
      "  -2.15905455  3.10897932 -0.23545687  0.65126217]]\n",
      "[[0.96903074 0.03096925]]\n",
      "------------------\n"
     ]
    },
    {
     "name": "stderr",
     "output_type": "stream",
     "text": [
      "c:\\Users\\kangh\\anaconda3\\envs\\capstone\\lib\\site-packages\\sklearn\\base.py:451: UserWarning: X does not have valid feature names, but StandardScaler was fitted with feature names\n",
      "  \"X does not have valid feature names, but\"\n"
     ]
    },
    {
     "name": "stdout",
     "output_type": "stream",
     "text": [
      "[[-1.0965449  -0.14157473 -0.86849691 -0.27499795 -1.24704748 -0.37020263\n",
      "  -2.15905455  3.26477668 -0.86675194  1.42129591]]\n",
      "[[0.996445   0.00355501]]\n",
      "------------------\n"
     ]
    },
    {
     "name": "stderr",
     "output_type": "stream",
     "text": [
      "c:\\Users\\kangh\\anaconda3\\envs\\capstone\\lib\\site-packages\\sklearn\\base.py:451: UserWarning: X does not have valid feature names, but StandardScaler was fitted with feature names\n",
      "  \"X does not have valid feature names, but\"\n"
     ]
    },
    {
     "name": "stdout",
     "output_type": "stream",
     "text": [
      "[[-1.0965449  -0.14157473 -0.86849691 -0.27499795 -1.24704748 -0.37020263\n",
      "  -2.15905455  3.1899479  -1.18239948  1.80631279]]\n",
      "[[0.9983112  0.00168879]]\n",
      "------------------\n"
     ]
    },
    {
     "name": "stderr",
     "output_type": "stream",
     "text": [
      "c:\\Users\\kangh\\anaconda3\\envs\\capstone\\lib\\site-packages\\sklearn\\base.py:451: UserWarning: X does not have valid feature names, but StandardScaler was fitted with feature names\n",
      "  \"X does not have valid feature names, but\"\n"
     ]
    },
    {
     "name": "stdout",
     "output_type": "stream",
     "text": [
      "[[-1.0965449  -0.14157473 -0.86849691 -0.27499795 -1.24704748 -0.37020263\n",
      "  -2.15905455  3.33730303 -1.49804701  1.67797383]]\n",
      "[[0.99788153 0.00211845]]\n",
      "------------------\n"
     ]
    },
    {
     "name": "stderr",
     "output_type": "stream",
     "text": [
      "c:\\Users\\kangh\\anaconda3\\envs\\capstone\\lib\\site-packages\\sklearn\\base.py:451: UserWarning: X does not have valid feature names, but StandardScaler was fitted with feature names\n",
      "  \"X does not have valid feature names, but\"\n"
     ]
    },
    {
     "name": "stdout",
     "output_type": "stream",
     "text": [
      "[[-1.0965449  -0.14157473 -0.86849691 -0.27499795 -1.24704748 -0.37020263\n",
      "  -2.15905455  3.46662251 -1.5769589   4.15919367]]\n",
      "[[0.99678624 0.00321376]]\n",
      "------------------\n",
      "예외가 발생했습니다. 'NoneType' object is not iterable\n"
     ]
    },
    {
     "name": "stderr",
     "output_type": "stream",
     "text": [
      "c:\\Users\\kangh\\anaconda3\\envs\\capstone\\lib\\site-packages\\sklearn\\base.py:451: UserWarning: X does not have valid feature names, but StandardScaler was fitted with feature names\n",
      "  \"X does not have valid feature names, but\"\n"
     ]
    },
    {
     "name": "stdout",
     "output_type": "stream",
     "text": [
      "[[-1.0965449  -0.14157473 -0.86849691 -0.27499795 -1.24704748 -0.37020263\n",
      "  -2.15905455  3.724494   -3.15519657  8.18048099]]\n",
      "[[0.22078222 0.7792178 ]]\n",
      "------------------\n"
     ]
    },
    {
     "name": "stderr",
     "output_type": "stream",
     "text": [
      "c:\\Users\\kangh\\anaconda3\\envs\\capstone\\lib\\site-packages\\sklearn\\base.py:451: UserWarning: X does not have valid feature names, but StandardScaler was fitted with feature names\n",
      "  \"X does not have valid feature names, but\"\n"
     ]
    },
    {
     "name": "stdout",
     "output_type": "stream",
     "text": [
      "[[-1.0965449  -0.14157473 -0.86849691 -0.27499795 -1.24704748 -0.37020263\n",
      "  -2.15905455  4.19725839  0.71148573  3.60305819]]\n",
      "[[0.9968287  0.00317134]]\n",
      "------------------\n"
     ]
    },
    {
     "name": "stderr",
     "output_type": "stream",
     "text": [
      "c:\\Users\\kangh\\anaconda3\\envs\\capstone\\lib\\site-packages\\sklearn\\base.py:451: UserWarning: X does not have valid feature names, but StandardScaler was fitted with feature names\n",
      "  \"X does not have valid feature names, but\"\n"
     ]
    },
    {
     "name": "stdout",
     "output_type": "stream",
     "text": [
      "[[-1.0965449  -0.14157473 -0.86849691 -0.27499795 -1.24704748 -0.37020263\n",
      "  -2.15905455  3.23638012  1.10604515  0.3518046 ]]\n",
      "[[0.9846557  0.01534435]]\n",
      "------------------\n"
     ]
    },
    {
     "name": "stderr",
     "output_type": "stream",
     "text": [
      "c:\\Users\\kangh\\anaconda3\\envs\\capstone\\lib\\site-packages\\sklearn\\base.py:451: UserWarning: X does not have valid feature names, but StandardScaler was fitted with feature names\n",
      "  \"X does not have valid feature names, but\"\n"
     ]
    },
    {
     "name": "stdout",
     "output_type": "stream",
     "text": [
      "[[-1.0965449  -0.14157473 -0.86849691 -0.27499795 -1.24704748 -0.37020263\n",
      "  -2.15905455  3.53723018  0.79039762  0.2662453 ]]\n",
      "[[0.9017284 0.0982716]]\n",
      "------------------\n"
     ]
    },
    {
     "name": "stderr",
     "output_type": "stream",
     "text": [
      "c:\\Users\\kangh\\anaconda3\\envs\\capstone\\lib\\site-packages\\sklearn\\base.py:451: UserWarning: X does not have valid feature names, but StandardScaler was fitted with feature names\n",
      "  \"X does not have valid feature names, but\"\n"
     ]
    },
    {
     "name": "stdout",
     "output_type": "stream",
     "text": [
      "[[-0.88000806 -0.14157473 -0.69611686 -0.2511447  -0.80933643 -0.19173882\n",
      "   0.69571821  5.25982707  1.10604515  0.52292321]]\n",
      "[[0.2175762 0.7824238]]\n",
      "------------------\n"
     ]
    },
    {
     "name": "stderr",
     "output_type": "stream",
     "text": [
      "c:\\Users\\kangh\\anaconda3\\envs\\capstone\\lib\\site-packages\\sklearn\\base.py:451: UserWarning: X does not have valid feature names, but StandardScaler was fitted with feature names\n",
      "  \"X does not have valid feature names, but\"\n"
     ]
    },
    {
     "name": "stdout",
     "output_type": "stream",
     "text": [
      "[[-0.71544007 -0.14157473 -0.56970482 -0.27499795 -0.89687864  0.39124293\n",
      "   0.75325627  3.79011309  1.18495703 -0.28989018]]\n",
      "[[0.35009915 0.64990085]]\n",
      "------------------\n"
     ]
    },
    {
     "name": "stderr",
     "output_type": "stream",
     "text": [
      "c:\\Users\\kangh\\anaconda3\\envs\\capstone\\lib\\site-packages\\sklearn\\base.py:451: UserWarning: X does not have valid feature names, but StandardScaler was fitted with feature names\n",
      "  \"X does not have valid feature names, but\"\n"
     ]
    },
    {
     "name": "stdout",
     "output_type": "stream",
     "text": [
      "[[-0.88866954 -0.14157473  0.57949555 -0.27499795 -0.10439127  1.48582093\n",
      "  -0.19390865  3.23331022  0.71148573 -0.16155122]]\n",
      "[[0.8665965  0.13340347]]\n",
      "------------------\n"
     ]
    },
    {
     "name": "stderr",
     "output_type": "stream",
     "text": [
      "c:\\Users\\kangh\\anaconda3\\envs\\capstone\\lib\\site-packages\\sklearn\\base.py:451: UserWarning: X does not have valid feature names, but StandardScaler was fitted with feature names\n",
      "  \"X does not have valid feature names, but\"\n"
     ]
    },
    {
     "name": "stdout",
     "output_type": "stream",
     "text": [
      "[[-0.75008596 -0.14157473 -0.29389673 -0.27499795  0.84167892  0.18501809\n",
      "  -0.72797983  3.61090775  0.71148573 -0.84602566]]\n",
      "[[0.5499125 0.4500875]]\n",
      "------------------\n"
     ]
    },
    {
     "name": "stderr",
     "output_type": "stream",
     "text": [
      "c:\\Users\\kangh\\anaconda3\\envs\\capstone\\lib\\site-packages\\sklearn\\base.py:451: UserWarning: X does not have valid feature names, but StandardScaler was fitted with feature names\n",
      "  \"X does not have valid feature names, but\"\n"
     ]
    },
    {
     "name": "stdout",
     "output_type": "stream",
     "text": [
      "[[-1.0965449  -0.14157473 -0.86849691 -0.27499795 -1.24704748 -0.37020263\n",
      "  -2.15905455  2.79277976  0.3958382  -0.67490705]]\n",
      "[[0.05522841 0.9447716 ]]\n",
      "------------------\n"
     ]
    },
    {
     "name": "stderr",
     "output_type": "stream",
     "text": [
      "c:\\Users\\kangh\\anaconda3\\envs\\capstone\\lib\\site-packages\\sklearn\\base.py:451: UserWarning: X does not have valid feature names, but StandardScaler was fitted with feature names\n",
      "  \"X does not have valid feature names, but\"\n"
     ]
    },
    {
     "name": "stdout",
     "output_type": "stream",
     "text": [
      "[[-1.0965449  -0.14157473 -0.86849691 -0.27499795 -1.24704748 -0.37020263\n",
      "  -2.15905455  2.73291674  0.15910255 -0.46100879]]\n",
      "[[0.08816236 0.91183764]]\n",
      "------------------\n"
     ]
    },
    {
     "name": "stderr",
     "output_type": "stream",
     "text": [
      "c:\\Users\\kangh\\anaconda3\\envs\\capstone\\lib\\site-packages\\sklearn\\base.py:451: UserWarning: X does not have valid feature names, but StandardScaler was fitted with feature names\n",
      "  \"X does not have valid feature names, but\"\n"
     ]
    },
    {
     "name": "stdout",
     "output_type": "stream",
     "text": [
      "[[-1.0965449  -0.14157473 -0.86849691 -0.27499795 -1.24704748 -0.37020263\n",
      "  -2.15905455  2.60129483  0.23801443 -0.16155122]]\n",
      "[[0.42265236 0.57734764]]\n",
      "------------------\n"
     ]
    },
    {
     "name": "stderr",
     "output_type": "stream",
     "text": [
      "c:\\Users\\kangh\\anaconda3\\envs\\capstone\\lib\\site-packages\\sklearn\\base.py:451: UserWarning: X does not have valid feature names, but StandardScaler was fitted with feature names\n",
      "  \"X does not have valid feature names, but\"\n"
     ]
    },
    {
     "name": "stdout",
     "output_type": "stream",
     "text": [
      "[[-0.88000806 -0.14157473  0.56800354 -0.27499795 -0.74022416 -0.25122676\n",
      "  -0.87551331  2.5690609   0.31692631 -0.6321274 ]]\n",
      "[[0.4171347 0.5828653]]\n",
      "------------------\n"
     ]
    },
    {
     "name": "stderr",
     "output_type": "stream",
     "text": [
      "c:\\Users\\kangh\\anaconda3\\envs\\capstone\\lib\\site-packages\\sklearn\\base.py:451: UserWarning: X does not have valid feature names, but StandardScaler was fitted with feature names\n",
      "  \"X does not have valid feature names, but\"\n"
     ]
    },
    {
     "name": "stdout",
     "output_type": "stream",
     "text": [
      "[[-1.0965449  -0.14157473 -0.86849691 -0.27499795 -1.24704748 -0.37020263\n",
      "  -2.15905455  2.75901087  0.3958382  -0.6321274 ]]\n",
      "[[0.11270899 0.887291  ]]\n",
      "------------------\n"
     ]
    },
    {
     "name": "stderr",
     "output_type": "stream",
     "text": [
      "c:\\Users\\kangh\\anaconda3\\envs\\capstone\\lib\\site-packages\\sklearn\\base.py:451: UserWarning: X does not have valid feature names, but StandardScaler was fitted with feature names\n",
      "  \"X does not have valid feature names, but\"\n"
     ]
    },
    {
     "name": "stdout",
     "output_type": "stream",
     "text": [
      "[[-0.88000806 -0.14157473  0.1083234  -0.27499795 -0.18732599  0.10570085\n",
      "  -1.05255348  2.55716504  0.94822138 -1.05992392]]\n",
      "[[0.3646698 0.6353302]]\n",
      "------------------\n"
     ]
    },
    {
     "name": "stderr",
     "output_type": "stream",
     "text": [
      "c:\\Users\\kangh\\anaconda3\\envs\\capstone\\lib\\site-packages\\sklearn\\base.py:451: UserWarning: X does not have valid feature names, but StandardScaler was fitted with feature names\n",
      "  \"X does not have valid feature names, but\"\n"
     ]
    },
    {
     "name": "stdout",
     "output_type": "stream",
     "text": [
      "[[-0.80782912 -0.14157473  0.7403836  -0.27499795 -0.38698366  0.81955606\n",
      "  -0.6247064   2.32193405  0.94822138 -1.10270358]]\n",
      "[[0.5689964  0.43100357]]\n",
      "------------------\n"
     ]
    },
    {
     "name": "stderr",
     "output_type": "stream",
     "text": [
      "c:\\Users\\kangh\\anaconda3\\envs\\capstone\\lib\\site-packages\\sklearn\\base.py:451: UserWarning: X does not have valid feature names, but StandardScaler was fitted with feature names\n",
      "  \"X does not have valid feature names, but\"\n"
     ]
    },
    {
     "name": "stdout",
     "output_type": "stream",
     "text": [
      "[[-0.75008596 -0.14157473 -0.33220341 -0.27499795 -0.32555053  0.66092157\n",
      "  -0.21161267  2.2175575   0.8693095  -1.31660184]]\n",
      "[[0.12145102 0.878549  ]]\n",
      "------------------\n"
     ]
    },
    {
     "name": "stderr",
     "output_type": "stream",
     "text": [
      "c:\\Users\\kangh\\anaconda3\\envs\\capstone\\lib\\site-packages\\sklearn\\base.py:451: UserWarning: X does not have valid feature names, but StandardScaler was fitted with feature names\n",
      "  \"X does not have valid feature names, but\"\n"
     ]
    },
    {
     "name": "stdout",
     "output_type": "stream",
     "text": [
      "[[-0.8367007  -0.14157473 -0.66738685 -0.27499795 -0.64807446 -0.19173882\n",
      "   0.62932815  3.3184999   0.94822138 -1.27382219]]\n",
      "[[0.00980163 0.9901984 ]]\n",
      "------------------\n"
     ]
    },
    {
     "name": "stderr",
     "output_type": "stream",
     "text": [
      "c:\\Users\\kangh\\anaconda3\\envs\\capstone\\lib\\site-packages\\sklearn\\base.py:451: UserWarning: X does not have valid feature names, but StandardScaler was fitted with feature names\n",
      "  \"X does not have valid feature names, but\"\n"
     ]
    },
    {
     "name": "stdout",
     "output_type": "stream",
     "text": [
      "[[-0.79339333 -0.14157473  0.1083234  -0.27499795 -0.50984992  0.93853193\n",
      "  -1.0746835   2.21947619  0.63257385 -0.97436462]]\n",
      "[[0.369874 0.630126]]\n",
      "------------------\n"
     ]
    },
    {
     "name": "stderr",
     "output_type": "stream",
     "text": [
      "c:\\Users\\kangh\\anaconda3\\envs\\capstone\\lib\\site-packages\\sklearn\\base.py:451: UserWarning: X does not have valid feature names, but StandardScaler was fitted with feature names\n",
      "  \"X does not have valid feature names, but\"\n"
     ]
    },
    {
     "name": "stdout",
     "output_type": "stream",
     "text": [
      "[[-1.0965449  -0.14157473 -0.86849691 -0.27499795 -1.24704748 -0.37020263\n",
      "  -2.15905455  2.24595406  0.3958382  -0.97436462]]\n",
      "[[0.0792681 0.9207319]]\n",
      "------------------\n"
     ]
    },
    {
     "name": "stderr",
     "output_type": "stream",
     "text": [
      "c:\\Users\\kangh\\anaconda3\\envs\\capstone\\lib\\site-packages\\sklearn\\base.py:451: UserWarning: X does not have valid feature names, but StandardScaler was fitted with feature names\n",
      "  \"X does not have valid feature names, but\"\n"
     ]
    },
    {
     "name": "stdout",
     "output_type": "stream",
     "text": [
      "[[-1.0965449  -0.14157473 -0.86849691 -0.27499795 -1.24704748 -0.37020263\n",
      "  -2.15905455  2.37181991  0.15910255 -0.88880531]]\n",
      "[[0.01847869 0.9815213 ]]\n",
      "------------------\n"
     ]
    },
    {
     "name": "stderr",
     "output_type": "stream",
     "text": [
      "c:\\Users\\kangh\\anaconda3\\envs\\capstone\\lib\\site-packages\\sklearn\\base.py:451: UserWarning: X does not have valid feature names, but StandardScaler was fitted with feature names\n",
      "  \"X does not have valid feature names, but\"\n"
     ]
    },
    {
     "name": "stdout",
     "output_type": "stream",
     "text": [
      "[[-1.0965449  -0.14157473 -0.86849691 -0.27499795 -1.24704748 -0.37020263\n",
      "  -2.15905455  2.37949465  0.15910255 -0.88880531]]\n",
      "[[0.01847869 0.9815213 ]]\n",
      "------------------\n"
     ]
    },
    {
     "name": "stderr",
     "output_type": "stream",
     "text": [
      "c:\\Users\\kangh\\anaconda3\\envs\\capstone\\lib\\site-packages\\sklearn\\base.py:451: UserWarning: X does not have valid feature names, but StandardScaler was fitted with feature names\n",
      "  \"X does not have valid feature names, but\"\n"
     ]
    },
    {
     "name": "stdout",
     "output_type": "stream",
     "text": [
      "[[-1.0965449  -0.14157473 -0.86849691 -0.27499795 -1.24704748 -0.37020263\n",
      "  -2.15905455  4.52765624  0.94822138  8.56549786]]\n",
      "[[0.99284494 0.00715503]]\n",
      "------------------\n",
      "예외가 발생했습니다. 'NoneType' object is not iterable\n",
      "[[ 0.92446554 -0.14157473  0.35731681 -0.27499795  0.53451328  0.10570085\n",
      "  -1.68694743  7.95212819 -0.86675194  7.19654899]]\n",
      "[[0.9926552  0.00734476]]\n",
      "------------------\n"
     ]
    },
    {
     "name": "stderr",
     "output_type": "stream",
     "text": [
      "c:\\Users\\kangh\\anaconda3\\envs\\capstone\\lib\\site-packages\\sklearn\\base.py:451: UserWarning: X does not have valid feature names, but StandardScaler was fitted with feature names\n",
      "  \"X does not have valid feature names, but\"\n",
      "c:\\Users\\kangh\\anaconda3\\envs\\capstone\\lib\\site-packages\\sklearn\\base.py:451: UserWarning: X does not have valid feature names, but StandardScaler was fitted with feature names\n",
      "  \"X does not have valid feature names, but\"\n"
     ]
    },
    {
     "name": "stdout",
     "output_type": "stream",
     "text": [
      "[[-1.0965449  -0.14157473 -0.86849691 -0.27499795 -1.24704748 -0.37020263\n",
      "  -2.15905455  2.18839346 -2.36607773  5.48536289]]\n",
      "[[0.93926954 0.06073044]]\n",
      "------------------\n"
     ]
    },
    {
     "name": "stderr",
     "output_type": "stream",
     "text": [
      "c:\\Users\\kangh\\anaconda3\\envs\\capstone\\lib\\site-packages\\sklearn\\base.py:451: UserWarning: X does not have valid feature names, but StandardScaler was fitted with feature names\n",
      "  \"X does not have valid feature names, but\"\n"
     ]
    },
    {
     "name": "stdout",
     "output_type": "stream",
     "text": [
      "[[-0.7067786  -0.14157473  0.62546356 -0.27499795  0.6880961  -0.25122676\n",
      "  -1.67219408  3.23676385 -0.23545687  4.62976984]]\n",
      "[[0.98424184 0.01575815]]\n",
      "------------------\n"
     ]
    },
    {
     "name": "stderr",
     "output_type": "stream",
     "text": [
      "c:\\Users\\kangh\\anaconda3\\envs\\capstone\\lib\\site-packages\\sklearn\\base.py:451: UserWarning: X does not have valid feature names, but StandardScaler was fitted with feature names\n",
      "  \"X does not have valid feature names, but\"\n"
     ]
    },
    {
     "name": "stdout",
     "output_type": "stream",
     "text": [
      "[[-0.89444385 -0.14157473  0.05086338 -0.24319362 -0.54056649  1.0575078\n",
      "  -0.27062606  4.32926404  0.8693095   2.61912618]]\n",
      "[[9.9971396e-01 2.8601597e-04]]\n",
      "------------------\n"
     ]
    },
    {
     "name": "stderr",
     "output_type": "stream",
     "text": [
      "c:\\Users\\kangh\\anaconda3\\envs\\capstone\\lib\\site-packages\\sklearn\\base.py:451: UserWarning: X does not have valid feature names, but StandardScaler was fitted with feature names\n",
      "  \"X does not have valid feature names, but\"\n"
     ]
    },
    {
     "name": "stdout",
     "output_type": "stream",
     "text": [
      "[[-1.0965449  -0.14157473 -0.86849691 -0.27499795 -1.24704748 -0.37020263\n",
      "  -2.15905455  1.97848914  1.02713327 -0.71768671]]\n",
      "[[0.18069756 0.81930244]]\n",
      "------------------\n"
     ]
    },
    {
     "name": "stderr",
     "output_type": "stream",
     "text": [
      "c:\\Users\\kangh\\anaconda3\\envs\\capstone\\lib\\site-packages\\sklearn\\base.py:451: UserWarning: X does not have valid feature names, but StandardScaler was fitted with feature names\n",
      "  \"X does not have valid feature names, but\"\n"
     ]
    },
    {
     "name": "stdout",
     "output_type": "stream",
     "text": [
      "[[-1.0965449  -0.14157473 -0.86849691 -0.27499795 -1.24704748 -0.37020263\n",
      "  -2.15905455  1.97925662  1.18495703 -0.58934775]]\n",
      "[[0.46857333 0.53142667]]\n",
      "------------------\n"
     ]
    },
    {
     "name": "stderr",
     "output_type": "stream",
     "text": [
      "c:\\Users\\kangh\\anaconda3\\envs\\capstone\\lib\\site-packages\\sklearn\\base.py:451: UserWarning: X does not have valid feature names, but StandardScaler was fitted with feature names\n",
      "  \"X does not have valid feature names, but\"\n"
     ]
    },
    {
     "name": "stdout",
     "output_type": "stream",
     "text": [
      "[[-0.66347123 -0.14157473  0.1083234  -0.2511447   0.43468444 -0.13225089\n",
      "  -0.30013275  3.03875539  0.94822138 -0.5465681 ]]\n",
      "[[0.08342379 0.9165762 ]]\n",
      "------------------\n"
     ]
    },
    {
     "name": "stderr",
     "output_type": "stream",
     "text": [
      "c:\\Users\\kangh\\anaconda3\\envs\\capstone\\lib\\site-packages\\sklearn\\base.py:451: UserWarning: X does not have valid feature names, but StandardScaler was fitted with feature names\n",
      "  \"X does not have valid feature names, but\"\n"
     ]
    },
    {
     "name": "stdout",
     "output_type": "stream",
     "text": [
      "[[-0.89444385 -0.14157473 -0.06405666  1.8558923  -0.8784487   3.83361141\n",
      "  -1.583674    3.0337668   0.94822138 -0.50378844]]\n",
      "[[0.976038   0.02396201]]\n",
      "------------------\n"
     ]
    },
    {
     "name": "stderr",
     "output_type": "stream",
     "text": [
      "c:\\Users\\kangh\\anaconda3\\envs\\capstone\\lib\\site-packages\\sklearn\\base.py:451: UserWarning: X does not have valid feature names, but StandardScaler was fitted with feature names\n",
      "  \"X does not have valid feature names, but\"\n"
     ]
    },
    {
     "name": "stdout",
     "output_type": "stream",
     "text": [
      "[[-1.0965449  -0.14157473 -0.86849691  5.76782514 -1.24704748  0.34365259\n",
      "  -2.12954786  3.09938589  0.79039762 -0.46100879]]\n",
      "[[0.6012801  0.39871994]]\n",
      "------------------\n"
     ]
    },
    {
     "name": "stderr",
     "output_type": "stream",
     "text": [
      "c:\\Users\\kangh\\anaconda3\\envs\\capstone\\lib\\site-packages\\sklearn\\base.py:451: UserWarning: X does not have valid feature names, but StandardScaler was fitted with feature names\n",
      "  \"X does not have valid feature names, but\"\n"
     ]
    },
    {
     "name": "stdout",
     "output_type": "stream",
     "text": [
      "[[-1.0965449  -0.14157473 -0.86849691 -0.27499795 -1.24704748 -0.37020263\n",
      "  -2.15905455  3.03568549  0.55366196 -0.24711053]]\n",
      "[[0.49835116 0.50164884]]\n",
      "------------------\n"
     ]
    },
    {
     "name": "stderr",
     "output_type": "stream",
     "text": [
      "c:\\Users\\kangh\\anaconda3\\envs\\capstone\\lib\\site-packages\\sklearn\\base.py:451: UserWarning: X does not have valid feature names, but StandardScaler was fitted with feature names\n",
      "  \"X does not have valid feature names, but\"\n"
     ]
    },
    {
     "name": "stdout",
     "output_type": "stream",
     "text": [
      "[[-1.0965449  -0.14157473 -0.86849691 -0.27499795 -1.24704748 -0.37020263\n",
      "  -2.15905455  2.0099556   0.47475008 -0.20433088]]\n",
      "[[0.5025825 0.4974175]]\n",
      "------------------\n"
     ]
    },
    {
     "name": "stderr",
     "output_type": "stream",
     "text": [
      "c:\\Users\\kangh\\anaconda3\\envs\\capstone\\lib\\site-packages\\sklearn\\base.py:451: UserWarning: X does not have valid feature names, but StandardScaler was fitted with feature names\n",
      "  \"X does not have valid feature names, but\"\n"
     ]
    },
    {
     "name": "stdout",
     "output_type": "stream",
     "text": [
      "[[-1.07489121 -0.14157473 -0.83976691  5.13968958 -1.1779352   0.10570085\n",
      "  -1.51728393  3.1580977  -0.47219252  0.2662453 ]]\n",
      "[[0.98551965 0.01448037]]\n",
      "------------------\n"
     ]
    },
    {
     "name": "stderr",
     "output_type": "stream",
     "text": [
      "c:\\Users\\kangh\\anaconda3\\envs\\capstone\\lib\\site-packages\\sklearn\\base.py:451: UserWarning: X does not have valid feature names, but StandardScaler was fitted with feature names\n",
      "  \"X does not have valid feature names, but\"\n"
     ]
    },
    {
     "name": "stdout",
     "output_type": "stream",
     "text": [
      "[[-0.98827648 -0.14157473 -0.66738685  4.49565186 -0.50984992  0.28416465\n",
      "  -1.68325909  3.09209488 -0.78784006  0.52292321]]\n",
      "[[0.88249564 0.11750434]]\n",
      "------------------\n"
     ]
    },
    {
     "name": "stderr",
     "output_type": "stream",
     "text": [
      "c:\\Users\\kangh\\anaconda3\\envs\\capstone\\lib\\site-packages\\sklearn\\base.py:451: UserWarning: X does not have valid feature names, but StandardScaler was fitted with feature names\n",
      "  \"X does not have valid feature names, but\"\n"
     ]
    },
    {
     "name": "stdout",
     "output_type": "stream",
     "text": [
      "[[-1.0965449  -0.14157473 -0.86849691  7.09088535 -1.24704748 -0.13225089\n",
      "  -2.06168246  3.13660841  0.3958382   0.00956739]]\n",
      "[[0.9441092  0.05589082]]\n",
      "------------------\n"
     ]
    },
    {
     "name": "stderr",
     "output_type": "stream",
     "text": [
      "c:\\Users\\kangh\\anaconda3\\envs\\capstone\\lib\\site-packages\\sklearn\\base.py:451: UserWarning: X does not have valid feature names, but StandardScaler was fitted with feature names\n",
      "  \"X does not have valid feature names, but\"\n"
     ]
    },
    {
     "name": "stdout",
     "output_type": "stream",
     "text": [
      "[[-1.06767332  0.12620071 -0.56204348  1.88769663 -0.72486588  5.0233701\n",
      "  -1.583674    3.89640833  0.71148573  5.39980359]]\n",
      "[[0.04246247 0.95753753]]\n",
      "------------------\n"
     ]
    },
    {
     "name": "stderr",
     "output_type": "stream",
     "text": [
      "c:\\Users\\kangh\\anaconda3\\envs\\capstone\\lib\\site-packages\\sklearn\\base.py:451: UserWarning: X does not have valid feature names, but StandardScaler was fitted with feature names\n",
      "  \"X does not have valid feature names, but\"\n"
     ]
    },
    {
     "name": "stdout",
     "output_type": "stream",
     "text": [
      "[[-1.0965449  -0.14157473 -0.86849691 -0.27499795 -1.24704748 -0.37020263\n",
      "  -2.15905455  3.48235575 -2.60281339  8.00936238]]\n",
      "[[0.92719996 0.07280004]]\n",
      "------------------\n"
     ]
    },
    {
     "name": "stderr",
     "output_type": "stream",
     "text": [
      "c:\\Users\\kangh\\anaconda3\\envs\\capstone\\lib\\site-packages\\sklearn\\base.py:451: UserWarning: X does not have valid feature names, but StandardScaler was fitted with feature names\n",
      "  \"X does not have valid feature names, but\"\n"
     ]
    },
    {
     "name": "stdout",
     "output_type": "stream",
     "text": [
      "[[-0.60572808 -0.14157473 -0.29389673  0.42469735 -0.8784487   2.24726649\n",
      "  -0.66896644  5.55376986 -1.34022325  2.53356688]]\n",
      "[[0.99581254 0.00418747]]\n",
      "------------------\n"
     ]
    },
    {
     "name": "stderr",
     "output_type": "stream",
     "text": [
      "c:\\Users\\kangh\\anaconda3\\envs\\capstone\\lib\\site-packages\\sklearn\\base.py:451: UserWarning: X does not have valid feature names, but StandardScaler was fitted with feature names\n",
      "  \"X does not have valid feature names, but\"\n"
     ]
    },
    {
     "name": "stdout",
     "output_type": "stream",
     "text": [
      "[[-1.0965449  -0.14157473 -0.86849691 -0.27499795 -1.24704748 -0.37020263\n",
      "  -2.15905455  1.93666177 -3.23410845  2.23410931]]\n",
      "[[0.7389846  0.26101542]]\n",
      "------------------\n"
     ]
    },
    {
     "name": "stderr",
     "output_type": "stream",
     "text": [
      "c:\\Users\\kangh\\anaconda3\\envs\\capstone\\lib\\site-packages\\sklearn\\base.py:451: UserWarning: X does not have valid feature names, but StandardScaler was fitted with feature names\n",
      "  \"X does not have valid feature names, but\"\n"
     ]
    },
    {
     "name": "stdout",
     "output_type": "stream",
     "text": [
      "[[-0.77895754 -0.14157473  0.7403836  -0.08417196 -0.8784487   3.19907344\n",
      "  -0.91977335  3.20452992  0.79039762  1.03627904]]\n",
      "[[0.92601436 0.07398562]]\n",
      "------------------\n"
     ]
    },
    {
     "name": "stderr",
     "output_type": "stream",
     "text": [
      "c:\\Users\\kangh\\anaconda3\\envs\\capstone\\lib\\site-packages\\sklearn\\base.py:451: UserWarning: X does not have valid feature names, but StandardScaler was fitted with feature names\n",
      "  \"X does not have valid feature names, but\"\n"
     ]
    },
    {
     "name": "stdout",
     "output_type": "stream",
     "text": [
      "[[-1.05323753 -0.14157473 -0.8110369   0.9176645  -1.20097263 -0.01327502\n",
      "  -0.60995305  2.21717376  0.79039762  0.90794009]]\n",
      "[[0.9774829  0.02251706]]\n",
      "------------------\n"
     ]
    },
    {
     "name": "stderr",
     "output_type": "stream",
     "text": [
      "c:\\Users\\kangh\\anaconda3\\envs\\capstone\\lib\\site-packages\\sklearn\\base.py:451: UserWarning: X does not have valid feature names, but StandardScaler was fitted with feature names\n",
      "  \"X does not have valid feature names, but\"\n"
     ]
    },
    {
     "name": "stdout",
     "output_type": "stream",
     "text": [
      "[[-0.98105859 -0.14157473 -0.79188356  1.31521865 -1.12418122  0.81955606\n",
      "  -0.32963945  4.12242961 -0.15654499  3.8597361 ]]\n",
      "[[0.56904656 0.43095344]]\n",
      "------------------\n"
     ]
    },
    {
     "name": "stderr",
     "output_type": "stream",
     "text": [
      "c:\\Users\\kangh\\anaconda3\\envs\\capstone\\lib\\site-packages\\sklearn\\base.py:451: UserWarning: X does not have valid feature names, but StandardScaler was fitted with feature names\n",
      "  \"X does not have valid feature names, but\"\n"
     ]
    },
    {
     "name": "stdout",
     "output_type": "stream",
     "text": [
      "[[-1.0965449  -0.14157473 -0.86849691 -0.27499795 -1.24704748 -0.37020263\n",
      "  -2.15905455  2.47312656 -3.15519657  5.27146463]]\n",
      "[[0.22078222 0.7792178 ]]\n",
      "------------------\n"
     ]
    },
    {
     "name": "stderr",
     "output_type": "stream",
     "text": [
      "c:\\Users\\kangh\\anaconda3\\envs\\capstone\\lib\\site-packages\\sklearn\\base.py:451: UserWarning: X does not have valid feature names, but StandardScaler was fitted with feature names\n",
      "  \"X does not have valid feature names, but\"\n"
     ]
    },
    {
     "name": "stdout",
     "output_type": "stream",
     "text": [
      "[[-1.0965449  -0.14157473 -0.86849691  4.40023886 -1.24704748 -0.37020263\n",
      "  -2.13692453  3.09861841  0.63257385  3.13248201]]\n",
      "[[9.999617e-01 3.835067e-05]]\n",
      "------------------\n"
     ]
    },
    {
     "name": "stderr",
     "output_type": "stream",
     "text": [
      "c:\\Users\\kangh\\anaconda3\\envs\\capstone\\lib\\site-packages\\sklearn\\base.py:451: UserWarning: X does not have valid feature names, but StandardScaler was fitted with feature names\n",
      "  \"X does not have valid feature names, but\"\n"
     ]
    },
    {
     "name": "stdout",
     "output_type": "stream",
     "text": [
      "[[-1.0965449  -0.14157473 -0.86849691  5.95865113 -1.24704748 -0.37020263\n",
      "  -2.11479451  3.71758673  0.31692631 -0.71768671]]\n",
      "[[0.04207081 0.9579292 ]]\n",
      "------------------\n"
     ]
    },
    {
     "name": "stderr",
     "output_type": "stream",
     "text": [
      "c:\\Users\\kangh\\anaconda3\\envs\\capstone\\lib\\site-packages\\sklearn\\base.py:451: UserWarning: X does not have valid feature names, but StandardScaler was fitted with feature names\n",
      "  \"X does not have valid feature names, but\"\n"
     ]
    },
    {
     "name": "stdout",
     "output_type": "stream",
     "text": [
      "[[-1.0965449  -0.14157473 -0.86849691  5.95865113 -1.24704748 -0.21156813\n",
      "  -2.11479451  3.62548977 -0.07763311 -0.37544949]]\n",
      "[[0.8879246  0.11207541]]\n",
      "------------------\n"
     ]
    },
    {
     "name": "stderr",
     "output_type": "stream",
     "text": [
      "c:\\Users\\kangh\\anaconda3\\envs\\capstone\\lib\\site-packages\\sklearn\\base.py:451: UserWarning: X does not have valid feature names, but StandardScaler was fitted with feature names\n",
      "  \"X does not have valid feature names, but\"\n"
     ]
    },
    {
     "name": "stdout",
     "output_type": "stream",
     "text": [
      "[[-1.0965449  -0.14157473 -0.86849691 -0.27499795 -1.24704748 -0.37020263\n",
      "  -2.15905455  2.31272436 -0.07763311 -0.24711053]]\n",
      "[[0.1909253 0.8090747]]\n",
      "------------------\n"
     ]
    },
    {
     "name": "stderr",
     "output_type": "stream",
     "text": [
      "c:\\Users\\kangh\\anaconda3\\envs\\capstone\\lib\\site-packages\\sklearn\\base.py:451: UserWarning: X does not have valid feature names, but StandardScaler was fitted with feature names\n",
      "  \"X does not have valid feature names, but\"\n"
     ]
    },
    {
     "name": "stdout",
     "output_type": "stream",
     "text": [
      "[[-1.0965449  -0.14157473 -0.86849691  3.3029894  -1.24704748  0.46262846\n",
      "  -1.76071417  2.29392123 -0.15654499 -0.16155122]]\n",
      "[[0.9492738  0.05072615]]\n",
      "------------------\n"
     ]
    },
    {
     "name": "stderr",
     "output_type": "stream",
     "text": [
      "c:\\Users\\kangh\\anaconda3\\envs\\capstone\\lib\\site-packages\\sklearn\\base.py:451: UserWarning: X does not have valid feature names, but StandardScaler was fitted with feature names\n",
      "  \"X does not have valid feature names, but\"\n"
     ]
    },
    {
     "name": "stdout",
     "output_type": "stream",
     "text": [
      "[[-0.88000806 -0.14157473 -0.69611686  1.82408796 -0.99363582  2.12829062\n",
      "  -0.57675802  3.69648118 -0.94566383  3.00414305]]\n",
      "[[0.99823195 0.00176805]]\n",
      "------------------\n"
     ]
    },
    {
     "name": "stderr",
     "output_type": "stream",
     "text": [
      "c:\\Users\\kangh\\anaconda3\\envs\\capstone\\lib\\site-packages\\sklearn\\base.py:451: UserWarning: X does not have valid feature names, but StandardScaler was fitted with feature names\n",
      "  \"X does not have valid feature names, but\"\n"
     ]
    },
    {
     "name": "stdout",
     "output_type": "stream",
     "text": [
      "[[-1.0965449  -0.14157473 -0.86849691 -0.27499795 -1.24704748 -0.37020263\n",
      "  -2.15905455  2.83729329 -3.70757976  4.80088845]]\n",
      "[[0.22078222 0.7792178 ]]\n",
      "------------------\n"
     ]
    },
    {
     "name": "stderr",
     "output_type": "stream",
     "text": [
      "c:\\Users\\kangh\\anaconda3\\envs\\capstone\\lib\\site-packages\\sklearn\\base.py:451: UserWarning: X does not have valid feature names, but StandardScaler was fitted with feature names\n",
      "  \"X does not have valid feature names, but\"\n"
     ]
    },
    {
     "name": "stdout",
     "output_type": "stream",
     "text": [
      "[[-1.0965449  -0.14157473 -0.75357688  0.24977353 -1.15489778  7.48220472\n",
      "  -1.73858415  4.85191428 -1.34022325  3.56027853]]\n",
      "[[0.9932596 0.0067404]]\n",
      "------------------\n"
     ]
    },
    {
     "name": "stderr",
     "output_type": "stream",
     "text": [
      "c:\\Users\\kangh\\anaconda3\\envs\\capstone\\lib\\site-packages\\sklearn\\base.py:451: UserWarning: X does not have valid feature names, but StandardScaler was fitted with feature names\n",
      "  \"X does not have valid feature names, but\"\n"
     ]
    },
    {
     "name": "stdout",
     "output_type": "stream",
     "text": [
      "[[-1.05323753 -0.14157473 -0.8110369   1.060784   -1.20097263  6.64937364\n",
      "  -1.93775434  2.49077848 -2.60281339  4.11641402]]\n",
      "[[0.3960836 0.6039164]]\n",
      "------------------\n"
     ]
    },
    {
     "name": "stderr",
     "output_type": "stream",
     "text": [
      "c:\\Users\\kangh\\anaconda3\\envs\\capstone\\lib\\site-packages\\sklearn\\base.py:451: UserWarning: X does not have valid feature names, but StandardScaler was fitted with feature names\n",
      "  \"X does not have valid feature names, but\"\n"
     ]
    },
    {
     "name": "stdout",
     "output_type": "stream",
     "text": [
      "[[-1.06767332 -0.14157473 -0.83019024  3.98678254 -1.18561435  0.18501809\n",
      "  -1.36237378  2.07442347 -2.68172527  3.90251575]]\n",
      "[[0.37831235 0.62168765]]\n",
      "------------------\n"
     ]
    },
    {
     "name": "stderr",
     "output_type": "stream",
     "text": [
      "c:\\Users\\kangh\\anaconda3\\envs\\capstone\\lib\\site-packages\\sklearn\\base.py:451: UserWarning: X does not have valid feature names, but StandardScaler was fitted with feature names\n",
      "  \"X does not have valid feature names, but\"\n"
     ]
    },
    {
     "name": "stdout",
     "output_type": "stream",
     "text": [
      "[[-1.07922195 -0.14157473 -0.75357688  1.86225316 -1.1180379   1.58100162\n",
      "  -0.09653655  3.47391352  0.23801443  0.65126217]]\n",
      "[[0.8860025  0.11399751]]\n",
      "------------------\n"
     ]
    },
    {
     "name": "stderr",
     "output_type": "stream",
     "text": [
      "c:\\Users\\kangh\\anaconda3\\envs\\capstone\\lib\\site-packages\\sklearn\\base.py:451: UserWarning: X does not have valid feature names, but StandardScaler was fitted with feature names\n",
      "  \"X does not have valid feature names, but\"\n"
     ]
    },
    {
     "name": "stdout",
     "output_type": "stream",
     "text": [
      "[[-0.98105859 -0.14157473 -0.33220341  2.71460926 -1.03203152  3.9922459\n",
      "  -1.77546751  3.74252966  0.31692631 -0.03321227]]\n",
      "[[0.7232396 0.2767604]]\n",
      "------------------\n"
     ]
    },
    {
     "name": "stderr",
     "output_type": "stream",
     "text": [
      "c:\\Users\\kangh\\anaconda3\\envs\\capstone\\lib\\site-packages\\sklearn\\base.py:451: UserWarning: X does not have valid feature names, but StandardScaler was fitted with feature names\n",
      "  \"X does not have valid feature names, but\"\n"
     ]
    },
    {
     "name": "stdout",
     "output_type": "stream",
     "text": [
      "[[-1.0965449  -0.14157473 -0.86849691 -0.27499795 -1.24704748 -0.37020263\n",
      "  -2.15905455  2.54565292  0.31692631  0.09512669]]\n",
      "[[0.51870567 0.48129433]]\n",
      "------------------\n"
     ]
    },
    {
     "name": "stderr",
     "output_type": "stream",
     "text": [
      "c:\\Users\\kangh\\anaconda3\\envs\\capstone\\lib\\site-packages\\sklearn\\base.py:451: UserWarning: X does not have valid feature names, but StandardScaler was fitted with feature names\n",
      "  \"X does not have valid feature names, but\"\n"
     ]
    },
    {
     "name": "stdout",
     "output_type": "stream",
     "text": [
      "[[-1.0965449  -0.14157473 -0.86849691 -0.27499795 -1.24704748 -0.37020263\n",
      "  -2.15905455  2.48885979  0.15910255  0.05234704]]\n",
      "[[0.37319797 0.626802  ]]\n",
      "------------------\n"
     ]
    },
    {
     "name": "stderr",
     "output_type": "stream",
     "text": [
      "c:\\Users\\kangh\\anaconda3\\envs\\capstone\\lib\\site-packages\\sklearn\\base.py:451: UserWarning: X does not have valid feature names, but StandardScaler was fitted with feature names\n",
      "  \"X does not have valid feature names, but\"\n"
     ]
    },
    {
     "name": "stdout",
     "output_type": "stream",
     "text": [
      "[[-0.79339333 -0.14157473  0.33816347  0.20206703 -0.74022416  0.22467672\n",
      "  -1.14107357  2.5402806   0.15910255 -0.07599192]]\n",
      "[[0.8040606  0.19593944]]\n",
      "------------------\n"
     ]
    },
    {
     "name": "stderr",
     "output_type": "stream",
     "text": [
      "c:\\Users\\kangh\\anaconda3\\envs\\capstone\\lib\\site-packages\\sklearn\\base.py:451: UserWarning: X does not have valid feature names, but StandardScaler was fitted with feature names\n",
      "  \"X does not have valid feature names, but\"\n"
     ]
    },
    {
     "name": "stdout",
     "output_type": "stream",
     "text": [
      "[[-0.4469344  -0.14157473  0.45308351 -0.06031871  1.03365745 -0.19173882\n",
      "  -0.89764333  3.64045553  0.08019066 -0.20433088]]\n",
      "[[0.23651755 0.76348245]]\n",
      "------------------\n"
     ]
    },
    {
     "name": "stderr",
     "output_type": "stream",
     "text": [
      "c:\\Users\\kangh\\anaconda3\\envs\\capstone\\lib\\site-packages\\sklearn\\base.py:451: UserWarning: X does not have valid feature names, but StandardScaler was fitted with feature names\n",
      "  \"X does not have valid feature names, but\"\n"
     ]
    },
    {
     "name": "stdout",
     "output_type": "stream",
     "text": [
      "[[-0.5768565  -0.14157473 -0.23643671  0.15436053 -0.4868125  -0.01327502\n",
      "   0.00968755  3.54145129  0.08019066 -0.07599192]]\n",
      "[[0.36403555 0.63596445]]\n",
      "------------------\n"
     ]
    },
    {
     "name": "stderr",
     "output_type": "stream",
     "text": [
      "c:\\Users\\kangh\\anaconda3\\envs\\capstone\\lib\\site-packages\\sklearn\\base.py:451: UserWarning: X does not have valid feature names, but StandardScaler was fitted with feature names\n",
      "  \"X does not have valid feature names, but\"\n"
     ]
    },
    {
     "name": "stdout",
     "output_type": "stream",
     "text": [
      "[[-6.63471231e-01 -1.41574726e-01 -2.93896732e-01 -1.79584954e-01\n",
      "  -2.33400840e-01  2.63836029e-02 -2.41119361e-01  3.56370806e+00\n",
      "   1.27877820e-03  9.56738532e-03]]\n",
      "[[0.09120417 0.90879583]]\n",
      "------------------\n"
     ]
    },
    {
     "name": "stderr",
     "output_type": "stream",
     "text": [
      "c:\\Users\\kangh\\anaconda3\\envs\\capstone\\lib\\site-packages\\sklearn\\base.py:451: UserWarning: X does not have valid feature names, but StandardScaler was fitted with feature names\n",
      "  \"X does not have valid feature names, but\"\n"
     ]
    },
    {
     "name": "stdout",
     "output_type": "stream",
     "text": [
      "[[-1.00993016 -0.14157473 -0.69611686 -0.17958495 -0.786299   -0.25122676\n",
      "  -0.34439279  3.61896624  0.08019066 -0.03321227]]\n",
      "[[0.649259 0.350741]]\n",
      "------------------\n"
     ]
    },
    {
     "name": "stderr",
     "output_type": "stream",
     "text": [
      "c:\\Users\\kangh\\anaconda3\\envs\\capstone\\lib\\site-packages\\sklearn\\base.py:451: UserWarning: X does not have valid feature names, but StandardScaler was fitted with feature names\n",
      "  \"X does not have valid feature names, but\"\n"
     ]
    },
    {
     "name": "stdout",
     "output_type": "stream",
     "text": [
      "[[-0.3170123  -0.14157473 -0.29389673  0.82225151 -0.32555053 -0.13225089\n",
      "  -0.47717292  3.5353115   0.15910255 -0.28989018]]\n",
      "[[0.02573681 0.9742632 ]]\n",
      "------------------\n"
     ]
    },
    {
     "name": "stderr",
     "output_type": "stream",
     "text": [
      "c:\\Users\\kangh\\anaconda3\\envs\\capstone\\lib\\site-packages\\sklearn\\base.py:451: UserWarning: X does not have valid feature names, but StandardScaler was fitted with feature names\n",
      "  \"X does not have valid feature names, but\"\n"
     ]
    },
    {
     "name": "stdout",
     "output_type": "stream",
     "text": [
      "[[-0.75008596 -0.14157473 -0.56204348 -0.14778062 -0.3562671  -0.21156813\n",
      "  -0.01981915  2.42324071 -0.07763311 -0.33266983]]\n",
      "[[0.35420763 0.64579237]]\n",
      "------------------\n"
     ]
    },
    {
     "name": "stderr",
     "output_type": "stream",
     "text": [
      "c:\\Users\\kangh\\anaconda3\\envs\\capstone\\lib\\site-packages\\sklearn\\base.py:451: UserWarning: X does not have valid feature names, but StandardScaler was fitted with feature names\n",
      "  \"X does not have valid feature names, but\"\n"
     ]
    },
    {
     "name": "stdout",
     "output_type": "stream",
     "text": [
      "[[-1.07922195 -0.14157473 -0.73059287  2.77821793 -1.06274809  0.39124293\n",
      "  -0.34439279  3.58251119  0.3958382  -0.28989018]]\n",
      "[[0.9730825  0.02691752]]\n",
      "------------------\n"
     ]
    },
    {
     "name": "stderr",
     "output_type": "stream",
     "text": [
      "c:\\Users\\kangh\\anaconda3\\envs\\capstone\\lib\\site-packages\\sklearn\\base.py:451: UserWarning: X does not have valid feature names, but StandardScaler was fitted with feature names\n",
      "  \"X does not have valid feature names, but\"\n"
     ]
    },
    {
     "name": "stdout",
     "output_type": "stream",
     "text": [
      "[[-1.06767332 -0.14157473 -0.79188356  3.4461089  -1.21633091  1.92999751\n",
      "  -1.42138717  3.74368087  0.71148573  3.81695645]]\n",
      "[[0.61041754 0.38958246]]\n",
      "------------------\n",
      "예외가 발생했습니다. 'NoneType' object is not iterable\n",
      "[[-1.0965449  -0.14157473 -0.86849691 -0.27499795 -1.24704748 -0.37020263\n",
      "  -2.15905455  2.92094803  0.08019066  7.53878621]]\n",
      "[[0.97384    0.02615998]]\n",
      "------------------\n"
     ]
    },
    {
     "name": "stderr",
     "output_type": "stream",
     "text": [
      "c:\\Users\\kangh\\anaconda3\\envs\\capstone\\lib\\site-packages\\sklearn\\base.py:451: UserWarning: X does not have valid feature names, but StandardScaler was fitted with feature names\n",
      "  \"X does not have valid feature names, but\"\n"
     ]
    },
    {
     "name": "stdout",
     "output_type": "stream",
     "text": [
      "예외가 발생했습니다. 'NoneType' object is not iterable\n",
      "[[-1.0965449  -0.14157473 -0.86849691 -0.27499795 -1.24704748 -0.37020263\n",
      "  -2.15905455  2.83383965 -2.91846092  7.49600655]]\n",
      "[[0.37091702 0.629083  ]]\n",
      "------------------\n"
     ]
    },
    {
     "name": "stderr",
     "output_type": "stream",
     "text": [
      "c:\\Users\\kangh\\anaconda3\\envs\\capstone\\lib\\site-packages\\sklearn\\base.py:451: UserWarning: X does not have valid feature names, but StandardScaler was fitted with feature names\n",
      "  \"X does not have valid feature names, but\"\n"
     ]
    },
    {
     "name": "stdout",
     "output_type": "stream",
     "text": [
      "예외가 발생했습니다. 'NoneType' object is not iterable\n",
      "예외가 발생했습니다. 'NoneType' object is not iterable\n",
      "예외가 발생했습니다. 'NoneType' object is not iterable\n",
      "예외가 발생했습니다. 'NoneType' object is not iterable\n",
      "[[-1.0965449  -0.14157473 -0.86849691 -0.27499795 -1.24704748 -0.37020263\n",
      "  -2.15905455  2.82923481 -2.9973728   6.51207455]]\n",
      "[[0.37091702 0.629083  ]]\n",
      "------------------\n"
     ]
    },
    {
     "name": "stderr",
     "output_type": "stream",
     "text": [
      "c:\\Users\\kangh\\anaconda3\\envs\\capstone\\lib\\site-packages\\sklearn\\base.py:451: UserWarning: X does not have valid feature names, but StandardScaler was fitted with feature names\n",
      "  \"X does not have valid feature names, but\"\n"
     ]
    },
    {
     "name": "stdout",
     "output_type": "stream",
     "text": [
      "예외가 발생했습니다. 'NoneType' object is not iterable\n"
     ]
    },
    {
     "name": "stderr",
     "output_type": "stream",
     "text": [
      "c:\\Users\\kangh\\anaconda3\\envs\\capstone\\lib\\site-packages\\sklearn\\base.py:451: UserWarning: X does not have valid feature names, but StandardScaler was fitted with feature names\n",
      "  \"X does not have valid feature names, but\"\n"
     ]
    },
    {
     "name": "stdout",
     "output_type": "stream",
     "text": [
      "[[-1.0965449  -0.14157473 -0.86849691 -0.27499795 -1.24704748 -0.37020263\n",
      "  -2.15905455  3.07981528 -4.02322729  7.32488794]]\n",
      "[[0.22078222 0.7792178 ]]\n",
      "------------------\n",
      "예외가 발생했습니다. 'NoneType' object is not iterable\n",
      "예외가 발생했습니다. 'NoneType' object is not iterable\n",
      "[[-1.0965449  -0.14157473 -0.86849691 -0.27499795 -1.24704748 -0.37020263\n",
      "  -2.15905455  2.83230471 -3.15519657  7.58156586]]\n",
      "[[0.22078222 0.7792178 ]]\n",
      "------------------\n"
     ]
    },
    {
     "name": "stderr",
     "output_type": "stream",
     "text": [
      "c:\\Users\\kangh\\anaconda3\\envs\\capstone\\lib\\site-packages\\sklearn\\base.py:451: UserWarning: X does not have valid feature names, but StandardScaler was fitted with feature names\n",
      "  \"X does not have valid feature names, but\"\n"
     ]
    },
    {
     "name": "stdout",
     "output_type": "stream",
     "text": [
      "예외가 발생했습니다. 'NoneType' object is not iterable\n",
      "예외가 발생했습니다. 'NoneType' object is not iterable\n"
     ]
    },
    {
     "name": "stderr",
     "output_type": "stream",
     "text": [
      "c:\\Users\\kangh\\anaconda3\\envs\\capstone\\lib\\site-packages\\sklearn\\base.py:451: UserWarning: X does not have valid feature names, but StandardScaler was fitted with feature names\n",
      "  \"X does not have valid feature names, but\"\n"
     ]
    },
    {
     "name": "stdout",
     "output_type": "stream",
     "text": [
      "[[-1.0965449  -0.14157473 -0.86849691 -0.27499795 -1.24704748 -0.37020263\n",
      "  -2.15905455  3.16884235 -3.78649164  8.69383682]]\n",
      "[[0.22078222 0.7792178 ]]\n",
      "------------------\n"
     ]
    },
    {
     "name": "stderr",
     "output_type": "stream",
     "text": [
      "c:\\Users\\kangh\\anaconda3\\envs\\capstone\\lib\\site-packages\\sklearn\\base.py:451: UserWarning: X does not have valid feature names, but StandardScaler was fitted with feature names\n",
      "  \"X does not have valid feature names, but\"\n"
     ]
    },
    {
     "name": "stdout",
     "output_type": "stream",
     "text": [
      "[[-1.0965449  -0.14157473 -0.86849691 -0.27499795 -1.24704748 -0.37020263\n",
      "  -2.15905455  3.46086645 -3.94431541  9.12163335]]\n",
      "[[0.22078222 0.7792178 ]]\n",
      "------------------\n"
     ]
    },
    {
     "name": "stderr",
     "output_type": "stream",
     "text": [
      "c:\\Users\\kangh\\anaconda3\\envs\\capstone\\lib\\site-packages\\sklearn\\base.py:451: UserWarning: X does not have valid feature names, but StandardScaler was fitted with feature names\n",
      "  \"X does not have valid feature names, but\"\n"
     ]
    },
    {
     "name": "stdout",
     "output_type": "stream",
     "text": [
      "[[-1.0965449  -0.14157473 -0.86849691 -0.27499795 -1.24704748 -0.37020263\n",
      "  -2.15905455  3.90907166 -1.97151832  7.66712516]]\n",
      "[[0.97509533 0.02490465]]\n",
      "------------------\n"
     ]
    },
    {
     "name": "stderr",
     "output_type": "stream",
     "text": [
      "c:\\Users\\kangh\\anaconda3\\envs\\capstone\\lib\\site-packages\\sklearn\\base.py:451: UserWarning: X does not have valid feature names, but StandardScaler was fitted with feature names\n",
      "  \"X does not have valid feature names, but\"\n"
     ]
    },
    {
     "name": "stdout",
     "output_type": "stream",
     "text": [
      "[[-1.07489121 -0.14157473 -0.86849691  5.28280907 -1.24704748 -0.25122676\n",
      "  -1.46195888  4.55758775  0.63257385  1.2501773 ]]\n",
      "[[9.9979013e-01 2.0988910e-04]]\n",
      "------------------\n"
     ]
    },
    {
     "name": "stderr",
     "output_type": "stream",
     "text": [
      "c:\\Users\\kangh\\anaconda3\\envs\\capstone\\lib\\site-packages\\sklearn\\base.py:451: UserWarning: X does not have valid feature names, but StandardScaler was fitted with feature names\n",
      "  \"X does not have valid feature names, but\"\n"
     ]
    },
    {
     "name": "stdout",
     "output_type": "stream",
     "text": [
      "[[-1.0965449  -0.14157473 -0.86849691  3.4842741  -1.24704748 -0.32261228\n",
      "  -0.39750485  4.42020978  0.3958382   0.56570287]]\n",
      "[[0.99831295 0.00168707]]\n",
      "------------------\n"
     ]
    }
   ],
   "source": [
    "import cv2\n",
    "import numpy as np\n",
    "import mediapipe as mp\n",
    "import itertools\n",
    "import math\n",
    "import glob,os\n",
    "import csv\n",
    "import pygame\n",
    "from fer import FER\n",
    "from fer.utils import draw_annotations\n",
    "cap = cv2.VideoCapture(0)\n",
    "mp_face_mesh = mp.solutions.face_mesh\n",
    "mp_pose = mp.solutions.pose\n",
    "mp_holistic = mp.solutions.holistic\n",
    "detector = FER()\n",
    "\n",
    "passed = 0\n",
    "start = pygame.time.get_ticks()\n",
    "pygame.init()\n",
    "fer.init()\n",
    "moves_ZX.init()\n",
    "off_angle.init()\n",
    "focus = 0\n",
    "focus_prob = 0 \n",
    "#try:   \n",
    "with mp_face_mesh.FaceMesh(max_num_faces=1, refine_landmarks=True, min_detection_confidence=0.5, min_tracking_confidence=0.5) as face_mesh:\n",
    "    with mp_pose.Pose(min_detection_confidence=0.5, min_tracking_confidence=0.5) as pose :\n",
    "        while cap.isOpened():\n",
    "            success, image = cap.read()\n",
    "            if not success:\n",
    "                print(\"Ignoring empty camera frame.\")\n",
    "                cap.release()\n",
    "                cv2.destroyAllWindows()\n",
    "            ######################################## \n",
    "            #각 모듈 불러오기\n",
    "            image.flags.writeable = False\n",
    "            image = cv2.cvtColor(image, cv2.COLOR_BGR2RGB)\n",
    "\n",
    "            fm_results = face_mesh.process(image)\n",
    "            pose_results = pose.process(image)\n",
    "\n",
    "            image.flags.writeable = True\n",
    "            image = cv2.cvtColor(image, cv2.COLOR_RGB2BGR)\n",
    "\n",
    "            emotions = detector.detect_emotions(image)\n",
    "            image = cv2.flip(image, 1)\n",
    "            ########################################\n",
    "            #데이터 추출\n",
    "            try:\n",
    "                fer_result = fer.detect(image,emotions)\n",
    "                moving = moves_ZX.detect(pose_results)\n",
    "                come_off , face_angle = off_angle.detect(image, fm_results)\n",
    "            \n",
    "            except Exception as e:\n",
    "\n",
    "                    print(\"예외가 발생했습니다.\", e)\n",
    "            ########################################\n",
    "            passed = pygame.time.get_ticks() - start # 시간측정\n",
    "            if passed > 500 : # 2초, 1000 == 1초\n",
    "                plus = [moving, face_angle,come_off] #탐지한 값들을 List로 합침\n",
    "                row = fer_result + plus\n",
    "                start = pygame.time.get_ticks()\n",
    "                passed = 0\n",
    "                fer.init() # 2초간의 데이터 초기화\n",
    "                moves_ZX.init()\n",
    "                off_angle.init()\n",
    "                try:\n",
    "                    X1 = scalar.transform(np.array(row).reshape(1,-1))\n",
    "                    focus = model.predict(X1)[0]\n",
    "                    focus_prob = model.predict_proba(X1)[0][1]\n",
    "\n",
    "                except Exception as e:\n",
    "\n",
    "                    print(\"예외가 발생했습니다.\", e)\n",
    "\n",
    "\n",
    "\n",
    "\n",
    "\n",
    "\n",
    "\n",
    "\n",
    "            # Make Detections\n",
    "\n",
    "            cv2.putText(image, 'CLASS'\n",
    "                                , (95,12), cv2.FONT_HERSHEY_SIMPLEX, 0.5, (0, 0, 0), 1, cv2.LINE_AA)\n",
    "\n",
    "            cv2.putText(image, str(focus)\n",
    "                        , (90,100), cv2.FONT_HERSHEY_SIMPLEX, 1, (0, 0, 0), 2, cv2.LINE_AA)\n",
    "\n",
    "            # Display Probability\n",
    "            cv2.putText(image, 'PROB'\n",
    "                        , (15,12), cv2.FONT_HERSHEY_SIMPLEX, 0.5, (0, 0, 0), 1, cv2.LINE_AA)\n",
    "            cv2.putText(image, str(round(focus_prob ,2))\n",
    "                        , (10,40), cv2.FONT_HERSHEY_SIMPLEX, 1, (0, 0, 0), 2, cv2.LINE_AA)\n",
    "\n",
    "            cv2.imshow('Blink', image)\n",
    "            if cv2.waitKey(5) & 0xFF == 27:\n",
    "                break\n",
    "#except Exception as e:\n",
    "    #print(\"예외가 발생했습니다.\", e)  \n",
    "#except Exception as e:\n",
    "#print(\"예외가 발생했습니다.\", e)                \n",
    "cap.release()\n",
    "cv2.destroyAllWindows()"
   ]
  },
  {
   "cell_type": "code",
   "execution_count": 1,
   "id": "868e4270",
   "metadata": {},
   "outputs": [
    {
     "ename": "NameError",
     "evalue": "name 'df' is not defined",
     "output_type": "error",
     "traceback": [
      "\u001b[1;31m---------------------------------------------------------------------------\u001b[0m",
      "\u001b[1;31mNameError\u001b[0m                                 Traceback (most recent call last)",
      "\u001b[1;32m~\\AppData\\Local\\Temp\\ipykernel_13496\\1890276076.py\u001b[0m in \u001b[0;36m<module>\u001b[1;34m\u001b[0m\n\u001b[1;32m----> 1\u001b[1;33m \u001b[0mdf\u001b[0m\u001b[1;33m.\u001b[0m\u001b[0misnull\u001b[0m\u001b[1;33m(\u001b[0m\u001b[1;33m)\u001b[0m\u001b[1;33m\u001b[0m\u001b[1;33m\u001b[0m\u001b[0m\n\u001b[0m",
      "\u001b[1;31mNameError\u001b[0m: name 'df' is not defined"
     ]
    }
   ],
   "source": [
    "df.isnull()"
   ]
  },
  {
   "cell_type": "code",
   "execution_count": null,
   "id": "6a78ced7",
   "metadata": {},
   "outputs": [],
   "source": []
  }
 ],
 "metadata": {
  "kernelspec": {
   "display_name": "Python 3.6.13 ('capstonedesign')",
   "language": "python",
   "name": "python3"
  },
  "language_info": {
   "codemirror_mode": {
    "name": "ipython",
    "version": 3
   },
   "file_extension": ".py",
   "mimetype": "text/x-python",
   "name": "python",
   "nbconvert_exporter": "python",
   "pygments_lexer": "ipython3",
   "version": "3.6.13"
  },
  "vscode": {
   "interpreter": {
    "hash": "fc13bca54d1217e163a04ae24cf7d3589d598137c753a5a8115670da2adfc4fc"
   }
  }
 },
 "nbformat": 4,
 "nbformat_minor": 5
}
